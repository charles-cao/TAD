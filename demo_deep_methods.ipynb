{
 "cells": [
  {
   "attachments": {},
   "cell_type": "markdown",
   "metadata": {},
   "source": [
    "## 1. Introduction\n",
    "\n",
    "This demostration shows the performace of deep outlier detection models in several synthetic and classical dataset. The models covered in this demostration includes:\n",
    "\n",
    "  1. Distance-based methods:\n",
    "     1. **kNN: k Nearest Neighbors** (use the distance to the kth nearest \n",
    "     neighbor as the outlier score)\n",
    "     2. **Average KNN** Outlier Detection (use the median distance to k nearest \n",
    "     neighbors as the outlier score)\n",
    "  2. Density-based methods:\n",
    "     1. **LOF: Local Outlier Factor**\n",
    "  3. Histogram-based method:\n",
    "     1. **HBOS: Histogram-based Outlier Score**\n",
    "  3. Principal Componet Anaysis:\n",
    "     1. **PCA: Principal Component Analysis** (use the sum of\n",
    "       weighted projected distances to the eigenvector hyperplane \n",
    "       as the outlier outlier scores)\n",
    "  4. Isolaiton-based methods\n",
    "     1. **Isolation Forest**\n",
    "     2. **Isolation NNE**\n",
    "     3. **Isolation Distributional Kernel**"
   ]
  },
  {
   "cell_type": "code",
   "execution_count": 2,
   "metadata": {},
   "outputs": [
    {
     "ename": "ModuleNotFoundError",
     "evalue": "No module named 'cv2'",
     "output_type": "error",
     "traceback": [
      "\u001b[0;31m---------------------------------------------------------------------------\u001b[0m",
      "\u001b[0;31mModuleNotFoundError\u001b[0m                       Traceback (most recent call last)",
      "Cell \u001b[0;32mIn[2], line 3\u001b[0m\n\u001b[1;32m      1\u001b[0m \u001b[39mimport\u001b[39;00m \u001b[39mnumpy\u001b[39;00m \u001b[39mas\u001b[39;00m \u001b[39mnp\u001b[39;00m\n\u001b[1;32m      2\u001b[0m \u001b[39mimport\u001b[39;00m \u001b[39mmatplotlib\u001b[39;00m\u001b[39m.\u001b[39;00m\u001b[39mpyplot\u001b[39;00m \u001b[39mas\u001b[39;00m \u001b[39mplt\u001b[39;00m\n\u001b[0;32m----> 3\u001b[0m \u001b[39mimport\u001b[39;00m \u001b[39mos\u001b[39;00m\u001b[39m,\u001b[39m \u001b[39mpprint\u001b[39;00m\u001b[39m,\u001b[39m \u001b[39myaml\u001b[39;00m\u001b[39m,\u001b[39m \u001b[39mwarnings\u001b[39;00m\u001b[39m,\u001b[39m \u001b[39mmath\u001b[39;00m\u001b[39m,\u001b[39m \u001b[39mglob\u001b[39;00m\u001b[39m,\u001b[39m \u001b[39mcv2\u001b[39;00m\u001b[39m,\u001b[39m \u001b[39mrandom\u001b[39;00m\u001b[39m,\u001b[39m \u001b[39mlogging\u001b[39;00m\n\u001b[1;32m      4\u001b[0m \u001b[39mfrom\u001b[39;00m \u001b[39mIPython\u001b[39;00m\u001b[39m.\u001b[39;00m\u001b[39mdisplay\u001b[39;00m \u001b[39mimport\u001b[39;00m Image\n",
      "\u001b[0;31mModuleNotFoundError\u001b[0m: No module named 'cv2'"
     ]
    }
   ],
   "source": [
    "import numpy as np\n",
    "import matplotlib.pyplot as plt\n",
    "import os, pprint, yaml, warnings, math, glob, cv2, random, logging\n",
    "from IPython.display import Image"
   ]
  },
  {
   "cell_type": "code",
   "execution_count": null,
   "metadata": {},
   "outputs": [],
   "source": []
  },
  {
   "cell_type": "code",
   "execution_count": 1,
   "metadata": {},
   "outputs": [
    {
     "ename": "NameError",
     "evalue": "name 'X_train' is not defined",
     "output_type": "error",
     "traceback": [
      "\u001b[0;31m---------------------------------------------------------------------------\u001b[0m",
      "\u001b[0;31mNameError\u001b[0m                                 Traceback (most recent call last)",
      "Cell \u001b[0;32mIn[1], line 3\u001b[0m\n\u001b[1;32m      1\u001b[0m \u001b[39mfrom\u001b[39;00m \u001b[39mdeepod\u001b[39;00m\u001b[39m.\u001b[39;00m\u001b[39mmodels\u001b[39;00m\u001b[39m.\u001b[39;00m\u001b[39mdsvdd\u001b[39;00m \u001b[39mimport\u001b[39;00m DeepSVDD\n\u001b[1;32m      2\u001b[0m clf \u001b[39m=\u001b[39m DeepSVDD()\n\u001b[0;32m----> 3\u001b[0m clf\u001b[39m.\u001b[39mfit(X_train, y\u001b[39m=\u001b[39m\u001b[39mNone\u001b[39;00m)\n\u001b[1;32m      4\u001b[0m scores \u001b[39m=\u001b[39m clf\u001b[39m.\u001b[39mdecision_function(X_test)\n",
      "\u001b[0;31mNameError\u001b[0m: name 'X_train' is not defined"
     ]
    }
   ],
   "source": [
    "from deepod.models.dsvdd import DeepSVDD\n",
    "clf = DeepSVDD()\n",
    "clf.fit(X_train, y=None)\n",
    "scores = clf.decision_function(X_test)"
   ]
  },
  {
   "cell_type": "code",
   "execution_count": null,
   "metadata": {},
   "outputs": [],
   "source": []
  }
 ],
 "metadata": {
  "kernelspec": {
   "display_name": "py39",
   "language": "python",
   "name": "python3"
  },
  "language_info": {
   "codemirror_mode": {
    "name": "ipython",
    "version": 3
   },
   "file_extension": ".py",
   "mimetype": "text/x-python",
   "name": "python",
   "nbconvert_exporter": "python",
   "pygments_lexer": "ipython3",
   "version": "3.9.16"
  },
  "orig_nbformat": 4
 },
 "nbformat": 4,
 "nbformat_minor": 2
}
