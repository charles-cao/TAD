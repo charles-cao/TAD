{
  "cells": [
    {
      "attachments": {},
      "cell_type": "markdown",
      "metadata": {
        "id": "6t4XeVORC6EZ",
        "pycharm": {
          "name": "#%% md\n"
        }
      },
      "source": [
        "# Demonstration of Deep Outlier Detection Models\n",
        "1. [Introduction](#1-introduction)\n",
        "2. [Demonstration on Classical Dataset](#2-demonstration-on-classical-dataset)\n",
        "    1. [Load Data](#21-load-data)\n",
        "    2. [Model Setting](#22-model-setting)\n",
        "    3. [Performance Comparation](#23-performance-comparation)\n",
        "4. [Reference](#reference)"
      ]
    },
    {
      "attachments": {},
      "cell_type": "markdown",
      "metadata": {
        "id": "pJ4UJysoC6Ec"
      },
      "source": [
        "## 1. Introduction\n",
        "\n",
        "This demostration shows the performace of shallow outlier detection models in several synthetic and classical dataset. The models covered in this demostration includes:\n",
        "\n",
        "1. **Deep SVDD** Deep One-Class Classification. (ICML'18)\n",
        "2. **REPEN** Learning Representations of Ultrahigh-dimensional Data for Random Distance-based Outlier Detection. (KDD'18)\n",
        "3. **RDP** Unsupervised Representation Learning by Predicting Random Distances. (IJCAI'20)\n",
        "4. **RCA** A Deep Collaborative Autoencoder Approach for Anomaly Detection. (IJCAI'21)\n",
        "5. **GOAD** Classification-Based Anomaly Detection for General Data. (ICLR'20)\n",
        "6. **Neutral** Neural Transformation Learning for Deep Anomaly Detection Beyond Images. (ICML'21)\n"
      ]
    },
    {
      "cell_type": "code",
      "execution_count": 8,
      "metadata": {
        "id": "zygqNbtzC6Ed"
      },
      "outputs": [],
      "source": [
        "import numpy as np\n",
        "from numpy import percentile\n",
        "import pandas as pd\n",
        "import matplotlib\n",
        "import matplotlib.pyplot as plt\n",
        "import matplotlib.font_manager\n",
        "from tqdm.notebook import tqdm\n",
        "import warnings\n",
        "warnings.filterwarnings(\"ignore\")\n",
        "from sklearn.datasets import make_moons, make_blobs"
      ]
    },
    {
      "attachments": {},
      "cell_type": "markdown",
      "metadata": {
        "collapsed": true,
        "id": "wHALOvujC6Eh",
        "pycharm": {
          "name": "#%%\n"
        }
      },
      "source": [
        "## 2. Demonstration on Classical Dataset"
      ]
    },
    {
      "cell_type": "code",
      "execution_count": 9,
      "metadata": {
        "id": "oEXhF25XC6Eh"
      },
      "outputs": [],
      "source": [
        "from pyod.utils.utility import standardizer\n",
        "from pyod.utils.utility import precision_n_scores\n",
        "from sklearn.metrics import roc_auc_score\n",
        "from scipy.io import loadmat\n",
        "from time import time\n",
        "import os"
      ]
    },
    {
      "attachments": {},
      "cell_type": "markdown",
      "metadata": {
        "id": "oa6dNX8bC6Eh"
      },
      "source": [
        "## 2.1.  Load Data\n",
        "All the following datasets are downloaded from \n",
        "Outlier Detection DataSets (ODDS): http://odds.cs.stonybrook.edu/#table1"
      ]
    },
    {
      "cell_type": "code",
      "execution_count": 16,
      "metadata": {
        "id": "zxquAumxC6Eh"
      },
      "outputs": [],
      "source": [
        "mat_file_list = ['arrhythmia.mat',\n",
        "                 'cardio.mat',\n",
        "                 'ionosphere.mat',\n",
        "                 'letter.mat',\n",
        "                 'lympho.mat',\n",
        "                 'mnist.mat',\n",
        "                 'musk.mat',\n",
        "                 'optdigits.mat',\n",
        "                 'pendigits.mat',\n",
        "                 'pima.mat',\n",
        "                 'satellite.mat',\n",
        "                 'satimage-2.mat',\n",
        "                 'shuttle.mat',\n",
        "                 'vertebral.mat',\n",
        "                 'vowels.mat',\n",
        "                 'wbc.mat']"
      ]
    },
    {
      "attachments": {},
      "cell_type": "markdown",
      "metadata": {
        "id": "ptQ6YSUFC6Eh"
      },
      "source": [
        "## 2.2. Model Setting"
      ]
    },
    {
      "cell_type": "code",
      "execution_count": 11,
      "metadata": {},
      "outputs": [],
      "source": [
        "from deepod.models.dsvdd import DeepSVDD\n",
        "from deepod.models.rdp import RDP\n",
        "from deepod.models.repen import REPEN\n",
        "from deepod.models.rca import RCA\n",
        "from deepod.models.goad import GOAD\n",
        "from deepod.models.dif import DeepIsolationForest\n",
        "from deepod.models.neutral import NeuTraL\n",
        "from deepod.models.icl import ICL"
      ]
    },
    {
      "cell_type": "code",
      "execution_count": 32,
      "metadata": {
        "id": "s6HeJ-blC6Ei"
      },
      "outputs": [],
      "source": [
        "classifiers = {\n",
        "\t'DeepSVDD': DeepSVDD(verbose=0),\n",
        "\t'RDP': RDP(verbose=0),\n",
        "\t'REPEN':REPEN(verbose=0),\n",
        "\t'RCA': RCA(verbose=0),\n",
        "\t'GOAD': GOAD(verbose=0),\n",
        "\t'Neutral': NeuTraL(verbose=0),\n",
        "\t#'ICL': ICL(verbose=0),\n",
        "    #'DIF': DeepIsolationForest(),\n",
        "\t}\n",
        "\n",
        "classifiers_indices = dict(zip(list(classifiers.keys()), range(len(classifiers))))"
      ]
    },
    {
      "attachments": {},
      "cell_type": "markdown",
      "metadata": {
        "id": "kjf9bq3wC6Ei"
      },
      "source": [
        "## 2.3. Performance Comparation"
      ]
    },
    {
      "cell_type": "code",
      "execution_count": 34,
      "metadata": {
        "colab": {
          "base_uri": "https://localhost:8080/",
          "height": 662,
          "referenced_widgets": [
            "0ba3e2bdfc8c4e76aa8f8280a92d92f6",
            "55c47939ae9c4b32a207926d43c1581f",
            "9229ffcc064d479a861e70d1ce7663c2",
            "f50886559b6b460fbf761a34fe20cc8e",
            "465aab62cf8642dc993321ea2f7ff18d",
            "7396a41b53d04174ad7f4dba05aa46f9",
            "db748f475c9c485db92efe8b86bd0dc0",
            "7216dcbeaf1344b0a996e054d209dc24",
            "0fd8cf3ed87b4016b039d1d398a74bc2",
            "d8857692bc0141a0996af1fa242b7a6b",
            "81608922e1bf4ddfaa7a84ce83608358"
          ]
        },
        "id": "zrqCgyKBC6Ei",
        "outputId": "d2b65e3c-43aa-4597-91d6-b731e9056892"
      },
      "outputs": [
        {
          "data": {
            "application/vnd.jupyter.widget-view+json": {
              "model_id": "f1f30f509cb644de8ca0b17526b5aa0b",
              "version_major": 2,
              "version_minor": 0
            },
            "text/plain": [
              "  0%|          | 0/16 [00:00<?, ?it/s]"
            ]
          },
          "metadata": {},
          "output_type": "display_data"
        },
        {
          "name": "stdout",
          "output_type": "stream",
          "text": [
            "\n",
            "... Processing arrhythmia.mat ...\n"
          ]
        },
        {
          "name": "stderr",
          "output_type": "stream",
          "text": [
            "100%|██████████| 10/10 [00:00<00:00, 208.57it/s]\n",
            "100%|██████████| 10/10 [00:00<00:00, 209.15it/s]\n"
          ]
        },
        {
          "name": "stdout",
          "output_type": "stream",
          "text": [
            "\n",
            "... Processing glass.mat ...\n"
          ]
        },
        {
          "name": "stderr",
          "output_type": "stream",
          "text": [
            "100%|██████████| 10/10 [00:00<00:00, 423.44it/s]\n",
            "100%|██████████| 10/10 [00:00<00:00, 383.29it/s]\n"
          ]
        },
        {
          "name": "stdout",
          "output_type": "stream",
          "text": [
            "\n",
            "... Processing ionosphere.mat ...\n"
          ]
        },
        {
          "name": "stderr",
          "output_type": "stream",
          "text": [
            "100%|██████████| 10/10 [00:00<00:00, 280.60it/s]\n",
            "100%|██████████| 10/10 [00:00<00:00, 280.84it/s]\n"
          ]
        },
        {
          "name": "stdout",
          "output_type": "stream",
          "text": [
            "\n",
            "... Processing letter.mat ...\n"
          ]
        },
        {
          "name": "stderr",
          "output_type": "stream",
          "text": [
            "100%|██████████| 10/10 [00:00<00:00, 68.60it/s]\n",
            "100%|██████████| 10/10 [00:00<00:00, 68.88it/s]\n"
          ]
        },
        {
          "name": "stdout",
          "output_type": "stream",
          "text": [
            "\n",
            "... Processing lympho.mat ...\n"
          ]
        },
        {
          "name": "stderr",
          "output_type": "stream",
          "text": [
            "100%|██████████| 10/10 [00:00<00:00, 561.92it/s]\n",
            "100%|██████████| 10/10 [00:00<00:00, 555.78it/s]\n"
          ]
        },
        {
          "name": "stdout",
          "output_type": "stream",
          "text": [
            "\n",
            "... Processing mnist.mat ...\n"
          ]
        },
        {
          "name": "stderr",
          "output_type": "stream",
          "text": [
            "100%|██████████| 10/10 [00:00<00:00, 14.51it/s]\n",
            "100%|██████████| 10/10 [00:00<00:00, 14.42it/s]\n"
          ]
        },
        {
          "name": "stdout",
          "output_type": "stream",
          "text": [
            "\n",
            "... Processing musk.mat ...\n"
          ]
        },
        {
          "name": "stderr",
          "output_type": "stream",
          "text": [
            "100%|██████████| 10/10 [00:00<00:00, 35.12it/s]\n",
            "100%|██████████| 10/10 [00:00<00:00, 35.20it/s]\n"
          ]
        },
        {
          "name": "stdout",
          "output_type": "stream",
          "text": [
            "\n",
            "... Processing optdigits.mat ...\n"
          ]
        },
        {
          "name": "stderr",
          "output_type": "stream",
          "text": [
            "100%|██████████| 10/10 [00:00<00:00, 19.44it/s]\n",
            "100%|██████████| 10/10 [00:00<00:00, 19.38it/s]\n"
          ]
        },
        {
          "name": "stdout",
          "output_type": "stream",
          "text": [
            "\n",
            "... Processing pendigits.mat ...\n"
          ]
        },
        {
          "name": "stderr",
          "output_type": "stream",
          "text": [
            "100%|██████████| 10/10 [00:00<00:00, 16.20it/s]\n",
            "100%|██████████| 10/10 [00:00<00:00, 16.26it/s]\n"
          ]
        },
        {
          "name": "stdout",
          "output_type": "stream",
          "text": [
            "\n",
            "... Processing pima.mat ...\n"
          ]
        },
        {
          "name": "stderr",
          "output_type": "stream",
          "text": [
            "100%|██████████| 10/10 [00:00<00:00, 145.31it/s]\n",
            "100%|██████████| 10/10 [00:00<00:00, 145.88it/s]\n"
          ]
        },
        {
          "name": "stdout",
          "output_type": "stream",
          "text": [
            "\n",
            "... Processing satellite.mat ...\n"
          ]
        },
        {
          "name": "stderr",
          "output_type": "stream",
          "text": [
            "100%|██████████| 10/10 [00:00<00:00, 17.10it/s]\n",
            "100%|██████████| 10/10 [00:00<00:00, 17.09it/s]\n"
          ]
        },
        {
          "name": "stdout",
          "output_type": "stream",
          "text": [
            "\n",
            "... Processing satimage-2.mat ...\n"
          ]
        },
        {
          "name": "stderr",
          "output_type": "stream",
          "text": [
            "100%|██████████| 10/10 [00:00<00:00, 18.85it/s]\n",
            "100%|██████████| 10/10 [00:00<00:00, 18.86it/s]\n"
          ]
        },
        {
          "name": "stdout",
          "output_type": "stream",
          "text": [
            "\n",
            "... Processing shuttle.mat ...\n"
          ]
        }
      ],
      "source": [
        "# initialize the container for saving the results\n",
        "df_columns = ['Data', '# Samples', '# Dimensions', 'Outlier Perc'] + list(classifiers_indices.keys())\n",
        "\n",
        "roc_df = pd.DataFrame(columns=df_columns)\n",
        "n_ite = 1\n",
        "n_classifiers = len(classifiers)\n",
        "\n",
        "for j in tqdm(range(len(mat_file_list))):\n",
        "    mat_file = mat_file_list[j]\n",
        "    print(\"\\n... Processing\", mat_file, '...')\n",
        "    \n",
        "    data = loadmat(os.path.join('datasets', mat_file))\n",
        "    X = data['X']\n",
        "    y = data['y'].ravel()\n",
        "    outliers_fraction = np.count_nonzero(y) / len(y)\n",
        "    outliers_percentage = round(outliers_fraction * 100, ndigits=4)\n",
        "\n",
        "    # construct containers for saving results\n",
        "    roc_list = [mat_file[:-4], X.shape[0], X.shape[1], outliers_percentage]\n",
        "    roc_mat = np.zeros(n_classifiers)\n",
        "\n",
        "    random_state = np.random.RandomState()\n",
        "\n",
        "    X_norm = standardizer(X)\n",
        "\n",
        "    for clf_name, clf in classifiers.items():\n",
        "        clf.fit(X_norm)\n",
        "        test_scores = clf.decision_function(X_norm)\n",
        "\n",
        "        roc = round(roc_auc_score(y, test_scores), ndigits=4)\n",
        "        # prn = round(precision_n_scores(y, test_scores), ndigits=4)\n",
        "\n",
        "        roc_mat[classifiers_indices[clf_name]] = roc\n",
        "\n",
        "    roc_list = roc_list + list(roc_mat)\n",
        "    temp_df = pd.DataFrame(roc_list).transpose()\n",
        "    temp_df.columns = df_columns\n",
        "    roc_df = pd.concat([roc_df, temp_df], axis=0)"
      ]
    },
    {
      "cell_type": "code",
      "execution_count": 26,
      "metadata": {
        "colab": {
          "base_uri": "https://localhost:8080/",
          "height": 582
        },
        "id": "qNkzTf2wC6Ei",
        "outputId": "a49be8cc-6c5d-4ce8-fde2-d5cd4f82ed7c"
      },
      "outputs": [
        {
          "data": {
            "text/html": [
              "<div>\n",
              "<style scoped>\n",
              "    .dataframe tbody tr th:only-of-type {\n",
              "        vertical-align: middle;\n",
              "    }\n",
              "\n",
              "    .dataframe tbody tr th {\n",
              "        vertical-align: top;\n",
              "    }\n",
              "\n",
              "    .dataframe thead th {\n",
              "        text-align: right;\n",
              "    }\n",
              "</style>\n",
              "<table border=\"1\" class=\"dataframe\">\n",
              "  <thead>\n",
              "    <tr style=\"text-align: right;\">\n",
              "      <th></th>\n",
              "      <th>Data</th>\n",
              "      <th># Samples</th>\n",
              "      <th># Dimensions</th>\n",
              "      <th>Outlier Perc</th>\n",
              "      <th>DeepSVDD</th>\n",
              "      <th>RDP</th>\n",
              "      <th>REPEN</th>\n",
              "      <th>RCA</th>\n",
              "      <th>GOAD</th>\n",
              "      <th>ICL</th>\n",
              "      <th>Neutral</th>\n",
              "    </tr>\n",
              "  </thead>\n",
              "  <tbody>\n",
              "    <tr>\n",
              "      <th>0</th>\n",
              "      <td>arrhythmia</td>\n",
              "      <td>452</td>\n",
              "      <td>274</td>\n",
              "      <td>14.6018</td>\n",
              "      <td>0.655</td>\n",
              "      <td>0.7538</td>\n",
              "      <td>0.7167</td>\n",
              "      <td>0.7666</td>\n",
              "      <td>0.3461</td>\n",
              "      <td>0.3899</td>\n",
              "      <td>0.6183</td>\n",
              "    </tr>\n",
              "  </tbody>\n",
              "</table>\n",
              "</div>"
            ],
            "text/plain": [
              "         Data # Samples # Dimensions Outlier Perc DeepSVDD     RDP   REPEN  \\\n",
              "0  arrhythmia       452          274      14.6018    0.655  0.7538  0.7167   \n",
              "\n",
              "      RCA    GOAD     ICL Neutral  \n",
              "0  0.7666  0.3461  0.3899  0.6183  "
            ]
          },
          "execution_count": 26,
          "metadata": {},
          "output_type": "execute_result"
        }
      ],
      "source": [
        "roc_df"
      ]
    },
    {
      "attachments": {},
      "cell_type": "markdown",
      "metadata": {
        "id": "71M6BKLFC6Ej"
      },
      "source": [
        "## Reference"
      ]
    },
    {
      "attachments": {},
      "cell_type": "markdown",
      "metadata": {
        "id": "8T8dbzZgC6Ej"
      },
      "source": [
        "1. Ting et al. [**Isolation Distributional Kernel A New Tool for Point & Group Anomaly Detection**](https://ieeexplore.ieee.org/abstract/document/9573389) *IEEE Transactions on Knowledge and Data Engineering*, 2021.\n",
        "2. Bandaragoda et al. [**Isolation‐based anomaly detection using nearest‐neighbor ensembles.**](https://proceedings.neurips.cc/paper_files/paper/2022/file/cf93972b116ca5268827d575f2cc226b-Paper-Datasets_and_Benchmarks.pdf) *Computational Intelligence*, 2018.\n",
        "3. Han et al. [**Adbench: Anomaly detection benchmark**](https://proceedings.neurips.cc/paper_files/paper/2022/file/cf93972b116ca5268827d575f2cc226b-Paper-Datasets_and_Benchmarks.pdf) *Advances in Neural Information Processing Systems*, 2022.\n",
        "4. [**DeepOD** (github.com/xuhongzuo/DeepOD)](https://github.com/xuhongzuo/DeepOD/tree/main)"
      ]
    },
    {
      "cell_type": "code",
      "execution_count": null,
      "metadata": {
        "id": "Inn8bWwSC6Ej"
      },
      "outputs": [],
      "source": []
    }
  ],
  "metadata": {
    "colab": {
      "provenance": []
    },
    "kernelspec": {
      "display_name": "Python 3",
      "language": "python",
      "name": "python3"
    },
    "language_info": {
      "codemirror_mode": {
        "name": "ipython",
        "version": 3
      },
      "file_extension": ".py",
      "mimetype": "text/x-python",
      "name": "python",
      "nbconvert_exporter": "python",
      "pygments_lexer": "ipython3",
      "version": "3.9.16"
    },
    "widgets": {
      "application/vnd.jupyter.widget-state+json": {
        "0ba3e2bdfc8c4e76aa8f8280a92d92f6": {
          "model_module": "@jupyter-widgets/controls",
          "model_module_version": "1.5.0",
          "model_name": "HBoxModel",
          "state": {
            "_dom_classes": [],
            "_model_module": "@jupyter-widgets/controls",
            "_model_module_version": "1.5.0",
            "_model_name": "HBoxModel",
            "_view_count": null,
            "_view_module": "@jupyter-widgets/controls",
            "_view_module_version": "1.5.0",
            "_view_name": "HBoxView",
            "box_style": "",
            "children": [
              "IPY_MODEL_55c47939ae9c4b32a207926d43c1581f",
              "IPY_MODEL_9229ffcc064d479a861e70d1ce7663c2",
              "IPY_MODEL_f50886559b6b460fbf761a34fe20cc8e"
            ],
            "layout": "IPY_MODEL_465aab62cf8642dc993321ea2f7ff18d"
          }
        },
        "0fd8cf3ed87b4016b039d1d398a74bc2": {
          "model_module": "@jupyter-widgets/controls",
          "model_module_version": "1.5.0",
          "model_name": "ProgressStyleModel",
          "state": {
            "_model_module": "@jupyter-widgets/controls",
            "_model_module_version": "1.5.0",
            "_model_name": "ProgressStyleModel",
            "_view_count": null,
            "_view_module": "@jupyter-widgets/base",
            "_view_module_version": "1.2.0",
            "_view_name": "StyleView",
            "bar_color": null,
            "description_width": ""
          }
        },
        "1c01d76b74a44818949b56bd483530b7": {
          "model_module": "@jupyter-widgets/controls",
          "model_module_version": "1.5.0",
          "model_name": "ProgressStyleModel",
          "state": {
            "_model_module": "@jupyter-widgets/controls",
            "_model_module_version": "1.5.0",
            "_model_name": "ProgressStyleModel",
            "_view_count": null,
            "_view_module": "@jupyter-widgets/base",
            "_view_module_version": "1.2.0",
            "_view_name": "StyleView",
            "bar_color": null,
            "description_width": ""
          }
        },
        "266bbd62c27349e0939a805e4390649d": {
          "model_module": "@jupyter-widgets/base",
          "model_module_version": "1.2.0",
          "model_name": "LayoutModel",
          "state": {
            "_model_module": "@jupyter-widgets/base",
            "_model_module_version": "1.2.0",
            "_model_name": "LayoutModel",
            "_view_count": null,
            "_view_module": "@jupyter-widgets/base",
            "_view_module_version": "1.2.0",
            "_view_name": "LayoutView",
            "align_content": null,
            "align_items": null,
            "align_self": null,
            "border": null,
            "bottom": null,
            "display": null,
            "flex": null,
            "flex_flow": null,
            "grid_area": null,
            "grid_auto_columns": null,
            "grid_auto_flow": null,
            "grid_auto_rows": null,
            "grid_column": null,
            "grid_gap": null,
            "grid_row": null,
            "grid_template_areas": null,
            "grid_template_columns": null,
            "grid_template_rows": null,
            "height": null,
            "justify_content": null,
            "justify_items": null,
            "left": null,
            "margin": null,
            "max_height": null,
            "max_width": null,
            "min_height": null,
            "min_width": null,
            "object_fit": null,
            "object_position": null,
            "order": null,
            "overflow": null,
            "overflow_x": null,
            "overflow_y": null,
            "padding": null,
            "right": null,
            "top": null,
            "visibility": null,
            "width": null
          }
        },
        "3984d76827ae43b08f373235ce787cf8": {
          "model_module": "@jupyter-widgets/controls",
          "model_module_version": "1.5.0",
          "model_name": "DescriptionStyleModel",
          "state": {
            "_model_module": "@jupyter-widgets/controls",
            "_model_module_version": "1.5.0",
            "_model_name": "DescriptionStyleModel",
            "_view_count": null,
            "_view_module": "@jupyter-widgets/base",
            "_view_module_version": "1.2.0",
            "_view_name": "StyleView",
            "description_width": ""
          }
        },
        "40cd0e71627d4d50ae9b864c983c6632": {
          "model_module": "@jupyter-widgets/base",
          "model_module_version": "1.2.0",
          "model_name": "LayoutModel",
          "state": {
            "_model_module": "@jupyter-widgets/base",
            "_model_module_version": "1.2.0",
            "_model_name": "LayoutModel",
            "_view_count": null,
            "_view_module": "@jupyter-widgets/base",
            "_view_module_version": "1.2.0",
            "_view_name": "LayoutView",
            "align_content": null,
            "align_items": null,
            "align_self": null,
            "border": null,
            "bottom": null,
            "display": null,
            "flex": null,
            "flex_flow": null,
            "grid_area": null,
            "grid_auto_columns": null,
            "grid_auto_flow": null,
            "grid_auto_rows": null,
            "grid_column": null,
            "grid_gap": null,
            "grid_row": null,
            "grid_template_areas": null,
            "grid_template_columns": null,
            "grid_template_rows": null,
            "height": null,
            "justify_content": null,
            "justify_items": null,
            "left": null,
            "margin": null,
            "max_height": null,
            "max_width": null,
            "min_height": null,
            "min_width": null,
            "object_fit": null,
            "object_position": null,
            "order": null,
            "overflow": null,
            "overflow_x": null,
            "overflow_y": null,
            "padding": null,
            "right": null,
            "top": null,
            "visibility": null,
            "width": null
          }
        },
        "42772caecc8d4f09b37b601731a3fa94": {
          "model_module": "@jupyter-widgets/base",
          "model_module_version": "1.2.0",
          "model_name": "LayoutModel",
          "state": {
            "_model_module": "@jupyter-widgets/base",
            "_model_module_version": "1.2.0",
            "_model_name": "LayoutModel",
            "_view_count": null,
            "_view_module": "@jupyter-widgets/base",
            "_view_module_version": "1.2.0",
            "_view_name": "LayoutView",
            "align_content": null,
            "align_items": null,
            "align_self": null,
            "border": null,
            "bottom": null,
            "display": null,
            "flex": null,
            "flex_flow": null,
            "grid_area": null,
            "grid_auto_columns": null,
            "grid_auto_flow": null,
            "grid_auto_rows": null,
            "grid_column": null,
            "grid_gap": null,
            "grid_row": null,
            "grid_template_areas": null,
            "grid_template_columns": null,
            "grid_template_rows": null,
            "height": null,
            "justify_content": null,
            "justify_items": null,
            "left": null,
            "margin": null,
            "max_height": null,
            "max_width": null,
            "min_height": null,
            "min_width": null,
            "object_fit": null,
            "object_position": null,
            "order": null,
            "overflow": null,
            "overflow_x": null,
            "overflow_y": null,
            "padding": null,
            "right": null,
            "top": null,
            "visibility": null,
            "width": null
          }
        },
        "465aab62cf8642dc993321ea2f7ff18d": {
          "model_module": "@jupyter-widgets/base",
          "model_module_version": "1.2.0",
          "model_name": "LayoutModel",
          "state": {
            "_model_module": "@jupyter-widgets/base",
            "_model_module_version": "1.2.0",
            "_model_name": "LayoutModel",
            "_view_count": null,
            "_view_module": "@jupyter-widgets/base",
            "_view_module_version": "1.2.0",
            "_view_name": "LayoutView",
            "align_content": null,
            "align_items": null,
            "align_self": null,
            "border": null,
            "bottom": null,
            "display": null,
            "flex": null,
            "flex_flow": null,
            "grid_area": null,
            "grid_auto_columns": null,
            "grid_auto_flow": null,
            "grid_auto_rows": null,
            "grid_column": null,
            "grid_gap": null,
            "grid_row": null,
            "grid_template_areas": null,
            "grid_template_columns": null,
            "grid_template_rows": null,
            "height": null,
            "justify_content": null,
            "justify_items": null,
            "left": null,
            "margin": null,
            "max_height": null,
            "max_width": null,
            "min_height": null,
            "min_width": null,
            "object_fit": null,
            "object_position": null,
            "order": null,
            "overflow": null,
            "overflow_x": null,
            "overflow_y": null,
            "padding": null,
            "right": null,
            "top": null,
            "visibility": null,
            "width": null
          }
        },
        "52c76771605a47618324c5661d5d74b9": {
          "model_module": "@jupyter-widgets/controls",
          "model_module_version": "1.5.0",
          "model_name": "HBoxModel",
          "state": {
            "_dom_classes": [],
            "_model_module": "@jupyter-widgets/controls",
            "_model_module_version": "1.5.0",
            "_model_name": "HBoxModel",
            "_view_count": null,
            "_view_module": "@jupyter-widgets/controls",
            "_view_module_version": "1.5.0",
            "_view_name": "HBoxView",
            "box_style": "",
            "children": [
              "IPY_MODEL_8e1555e31e924d4da2a8a56a95d5bfb3",
              "IPY_MODEL_dde6f0e2f54a4b57a47a46055edc55d1",
              "IPY_MODEL_8856795c89e74dfba28c5b0afa346515"
            ],
            "layout": "IPY_MODEL_40cd0e71627d4d50ae9b864c983c6632"
          }
        },
        "55c47939ae9c4b32a207926d43c1581f": {
          "model_module": "@jupyter-widgets/controls",
          "model_module_version": "1.5.0",
          "model_name": "HTMLModel",
          "state": {
            "_dom_classes": [],
            "_model_module": "@jupyter-widgets/controls",
            "_model_module_version": "1.5.0",
            "_model_name": "HTMLModel",
            "_view_count": null,
            "_view_module": "@jupyter-widgets/controls",
            "_view_module_version": "1.5.0",
            "_view_name": "HTMLView",
            "description": "",
            "description_tooltip": null,
            "layout": "IPY_MODEL_7396a41b53d04174ad7f4dba05aa46f9",
            "placeholder": "​",
            "style": "IPY_MODEL_db748f475c9c485db92efe8b86bd0dc0",
            "value": "100%"
          }
        },
        "7216dcbeaf1344b0a996e054d209dc24": {
          "model_module": "@jupyter-widgets/base",
          "model_module_version": "1.2.0",
          "model_name": "LayoutModel",
          "state": {
            "_model_module": "@jupyter-widgets/base",
            "_model_module_version": "1.2.0",
            "_model_name": "LayoutModel",
            "_view_count": null,
            "_view_module": "@jupyter-widgets/base",
            "_view_module_version": "1.2.0",
            "_view_name": "LayoutView",
            "align_content": null,
            "align_items": null,
            "align_self": null,
            "border": null,
            "bottom": null,
            "display": null,
            "flex": null,
            "flex_flow": null,
            "grid_area": null,
            "grid_auto_columns": null,
            "grid_auto_flow": null,
            "grid_auto_rows": null,
            "grid_column": null,
            "grid_gap": null,
            "grid_row": null,
            "grid_template_areas": null,
            "grid_template_columns": null,
            "grid_template_rows": null,
            "height": null,
            "justify_content": null,
            "justify_items": null,
            "left": null,
            "margin": null,
            "max_height": null,
            "max_width": null,
            "min_height": null,
            "min_width": null,
            "object_fit": null,
            "object_position": null,
            "order": null,
            "overflow": null,
            "overflow_x": null,
            "overflow_y": null,
            "padding": null,
            "right": null,
            "top": null,
            "visibility": null,
            "width": null
          }
        },
        "7396a41b53d04174ad7f4dba05aa46f9": {
          "model_module": "@jupyter-widgets/base",
          "model_module_version": "1.2.0",
          "model_name": "LayoutModel",
          "state": {
            "_model_module": "@jupyter-widgets/base",
            "_model_module_version": "1.2.0",
            "_model_name": "LayoutModel",
            "_view_count": null,
            "_view_module": "@jupyter-widgets/base",
            "_view_module_version": "1.2.0",
            "_view_name": "LayoutView",
            "align_content": null,
            "align_items": null,
            "align_self": null,
            "border": null,
            "bottom": null,
            "display": null,
            "flex": null,
            "flex_flow": null,
            "grid_area": null,
            "grid_auto_columns": null,
            "grid_auto_flow": null,
            "grid_auto_rows": null,
            "grid_column": null,
            "grid_gap": null,
            "grid_row": null,
            "grid_template_areas": null,
            "grid_template_columns": null,
            "grid_template_rows": null,
            "height": null,
            "justify_content": null,
            "justify_items": null,
            "left": null,
            "margin": null,
            "max_height": null,
            "max_width": null,
            "min_height": null,
            "min_width": null,
            "object_fit": null,
            "object_position": null,
            "order": null,
            "overflow": null,
            "overflow_x": null,
            "overflow_y": null,
            "padding": null,
            "right": null,
            "top": null,
            "visibility": null,
            "width": null
          }
        },
        "81608922e1bf4ddfaa7a84ce83608358": {
          "model_module": "@jupyter-widgets/controls",
          "model_module_version": "1.5.0",
          "model_name": "DescriptionStyleModel",
          "state": {
            "_model_module": "@jupyter-widgets/controls",
            "_model_module_version": "1.5.0",
            "_model_name": "DescriptionStyleModel",
            "_view_count": null,
            "_view_module": "@jupyter-widgets/base",
            "_view_module_version": "1.2.0",
            "_view_name": "StyleView",
            "description_width": ""
          }
        },
        "8856795c89e74dfba28c5b0afa346515": {
          "model_module": "@jupyter-widgets/controls",
          "model_module_version": "1.5.0",
          "model_name": "HTMLModel",
          "state": {
            "_dom_classes": [],
            "_model_module": "@jupyter-widgets/controls",
            "_model_module_version": "1.5.0",
            "_model_name": "HTMLModel",
            "_view_count": null,
            "_view_module": "@jupyter-widgets/controls",
            "_view_module_version": "1.5.0",
            "_view_name": "HTMLView",
            "description": "",
            "description_tooltip": null,
            "layout": "IPY_MODEL_266bbd62c27349e0939a805e4390649d",
            "placeholder": "​",
            "style": "IPY_MODEL_3984d76827ae43b08f373235ce787cf8",
            "value": " 4/4 [00:37&lt;00:00,  8.07s/it]"
          }
        },
        "8e1555e31e924d4da2a8a56a95d5bfb3": {
          "model_module": "@jupyter-widgets/controls",
          "model_module_version": "1.5.0",
          "model_name": "HTMLModel",
          "state": {
            "_dom_classes": [],
            "_model_module": "@jupyter-widgets/controls",
            "_model_module_version": "1.5.0",
            "_model_name": "HTMLModel",
            "_view_count": null,
            "_view_module": "@jupyter-widgets/controls",
            "_view_module_version": "1.5.0",
            "_view_name": "HTMLView",
            "description": "",
            "description_tooltip": null,
            "layout": "IPY_MODEL_f3a5a133f4f4469395853f02be0e24e2",
            "placeholder": "​",
            "style": "IPY_MODEL_f4718d1d2e834689bbd6a763b17db48e",
            "value": "100%"
          }
        },
        "9229ffcc064d479a861e70d1ce7663c2": {
          "model_module": "@jupyter-widgets/controls",
          "model_module_version": "1.5.0",
          "model_name": "FloatProgressModel",
          "state": {
            "_dom_classes": [],
            "_model_module": "@jupyter-widgets/controls",
            "_model_module_version": "1.5.0",
            "_model_name": "FloatProgressModel",
            "_view_count": null,
            "_view_module": "@jupyter-widgets/controls",
            "_view_module_version": "1.5.0",
            "_view_name": "ProgressView",
            "bar_style": "success",
            "description": "",
            "description_tooltip": null,
            "layout": "IPY_MODEL_7216dcbeaf1344b0a996e054d209dc24",
            "max": 17,
            "min": 0,
            "orientation": "horizontal",
            "style": "IPY_MODEL_0fd8cf3ed87b4016b039d1d398a74bc2",
            "value": 17
          }
        },
        "d8857692bc0141a0996af1fa242b7a6b": {
          "model_module": "@jupyter-widgets/base",
          "model_module_version": "1.2.0",
          "model_name": "LayoutModel",
          "state": {
            "_model_module": "@jupyter-widgets/base",
            "_model_module_version": "1.2.0",
            "_model_name": "LayoutModel",
            "_view_count": null,
            "_view_module": "@jupyter-widgets/base",
            "_view_module_version": "1.2.0",
            "_view_name": "LayoutView",
            "align_content": null,
            "align_items": null,
            "align_self": null,
            "border": null,
            "bottom": null,
            "display": null,
            "flex": null,
            "flex_flow": null,
            "grid_area": null,
            "grid_auto_columns": null,
            "grid_auto_flow": null,
            "grid_auto_rows": null,
            "grid_column": null,
            "grid_gap": null,
            "grid_row": null,
            "grid_template_areas": null,
            "grid_template_columns": null,
            "grid_template_rows": null,
            "height": null,
            "justify_content": null,
            "justify_items": null,
            "left": null,
            "margin": null,
            "max_height": null,
            "max_width": null,
            "min_height": null,
            "min_width": null,
            "object_fit": null,
            "object_position": null,
            "order": null,
            "overflow": null,
            "overflow_x": null,
            "overflow_y": null,
            "padding": null,
            "right": null,
            "top": null,
            "visibility": null,
            "width": null
          }
        },
        "db748f475c9c485db92efe8b86bd0dc0": {
          "model_module": "@jupyter-widgets/controls",
          "model_module_version": "1.5.0",
          "model_name": "DescriptionStyleModel",
          "state": {
            "_model_module": "@jupyter-widgets/controls",
            "_model_module_version": "1.5.0",
            "_model_name": "DescriptionStyleModel",
            "_view_count": null,
            "_view_module": "@jupyter-widgets/base",
            "_view_module_version": "1.2.0",
            "_view_name": "StyleView",
            "description_width": ""
          }
        },
        "dde6f0e2f54a4b57a47a46055edc55d1": {
          "model_module": "@jupyter-widgets/controls",
          "model_module_version": "1.5.0",
          "model_name": "FloatProgressModel",
          "state": {
            "_dom_classes": [],
            "_model_module": "@jupyter-widgets/controls",
            "_model_module_version": "1.5.0",
            "_model_name": "FloatProgressModel",
            "_view_count": null,
            "_view_module": "@jupyter-widgets/controls",
            "_view_module_version": "1.5.0",
            "_view_name": "ProgressView",
            "bar_style": "success",
            "description": "",
            "description_tooltip": null,
            "layout": "IPY_MODEL_42772caecc8d4f09b37b601731a3fa94",
            "max": 4,
            "min": 0,
            "orientation": "horizontal",
            "style": "IPY_MODEL_1c01d76b74a44818949b56bd483530b7",
            "value": 4
          }
        },
        "f3a5a133f4f4469395853f02be0e24e2": {
          "model_module": "@jupyter-widgets/base",
          "model_module_version": "1.2.0",
          "model_name": "LayoutModel",
          "state": {
            "_model_module": "@jupyter-widgets/base",
            "_model_module_version": "1.2.0",
            "_model_name": "LayoutModel",
            "_view_count": null,
            "_view_module": "@jupyter-widgets/base",
            "_view_module_version": "1.2.0",
            "_view_name": "LayoutView",
            "align_content": null,
            "align_items": null,
            "align_self": null,
            "border": null,
            "bottom": null,
            "display": null,
            "flex": null,
            "flex_flow": null,
            "grid_area": null,
            "grid_auto_columns": null,
            "grid_auto_flow": null,
            "grid_auto_rows": null,
            "grid_column": null,
            "grid_gap": null,
            "grid_row": null,
            "grid_template_areas": null,
            "grid_template_columns": null,
            "grid_template_rows": null,
            "height": null,
            "justify_content": null,
            "justify_items": null,
            "left": null,
            "margin": null,
            "max_height": null,
            "max_width": null,
            "min_height": null,
            "min_width": null,
            "object_fit": null,
            "object_position": null,
            "order": null,
            "overflow": null,
            "overflow_x": null,
            "overflow_y": null,
            "padding": null,
            "right": null,
            "top": null,
            "visibility": null,
            "width": null
          }
        },
        "f4718d1d2e834689bbd6a763b17db48e": {
          "model_module": "@jupyter-widgets/controls",
          "model_module_version": "1.5.0",
          "model_name": "DescriptionStyleModel",
          "state": {
            "_model_module": "@jupyter-widgets/controls",
            "_model_module_version": "1.5.0",
            "_model_name": "DescriptionStyleModel",
            "_view_count": null,
            "_view_module": "@jupyter-widgets/base",
            "_view_module_version": "1.2.0",
            "_view_name": "StyleView",
            "description_width": ""
          }
        },
        "f50886559b6b460fbf761a34fe20cc8e": {
          "model_module": "@jupyter-widgets/controls",
          "model_module_version": "1.5.0",
          "model_name": "HTMLModel",
          "state": {
            "_dom_classes": [],
            "_model_module": "@jupyter-widgets/controls",
            "_model_module_version": "1.5.0",
            "_model_name": "HTMLModel",
            "_view_count": null,
            "_view_module": "@jupyter-widgets/controls",
            "_view_module_version": "1.5.0",
            "_view_name": "HTMLView",
            "description": "",
            "description_tooltip": null,
            "layout": "IPY_MODEL_d8857692bc0141a0996af1fa242b7a6b",
            "placeholder": "​",
            "style": "IPY_MODEL_81608922e1bf4ddfaa7a84ce83608358",
            "value": " 17/17 [02:23&lt;00:00,  9.90s/it]"
          }
        }
      }
    }
  },
  "nbformat": 4,
  "nbformat_minor": 0
}
